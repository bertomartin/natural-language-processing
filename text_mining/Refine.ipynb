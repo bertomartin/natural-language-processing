{
 "cells": [
  {
   "cell_type": "markdown",
   "metadata": {},
   "source": [
    "# Refine the Data"
   ]
  },
  {
   "cell_type": "code",
   "execution_count": 32,
   "metadata": {
    "collapsed": true
   },
   "outputs": [],
   "source": [
    "import pandas as pd"
   ]
  },
  {
   "cell_type": "code",
   "execution_count": 33,
   "metadata": {
    "collapsed": true
   },
   "outputs": [],
   "source": [
    "df = pd.read_csv('data_tau.csv')"
   ]
  },
  {
   "cell_type": "code",
   "execution_count": 34,
   "metadata": {
    "collapsed": false
   },
   "outputs": [
    {
     "data": {
      "text/html": [
       "<div>\n",
       "<table border=\"1\" class=\"dataframe\">\n",
       "  <thead>\n",
       "    <tr style=\"text-align: right;\">\n",
       "      <th></th>\n",
       "      <th>title</th>\n",
       "      <th>date</th>\n",
       "    </tr>\n",
       "  </thead>\n",
       "  <tbody>\n",
       "    <tr>\n",
       "      <th>0</th>\n",
       "      <td>An Exploration of R, Yelp, and the Search for ...</td>\n",
       "      <td>5 points by Rogerh91 6 hours ago  | discuss</td>\n",
       "    </tr>\n",
       "    <tr>\n",
       "      <th>1</th>\n",
       "      <td>Deep Advances in Generative Modeling</td>\n",
       "      <td>7 points by gwulfs 15 hours ago  | 1 comment</td>\n",
       "    </tr>\n",
       "    <tr>\n",
       "      <th>2</th>\n",
       "      <td>Spark Pipelines: Elegant Yet Powerful</td>\n",
       "      <td>3 points by aouyang1 9 hours ago  | discuss</td>\n",
       "    </tr>\n",
       "    <tr>\n",
       "      <th>3</th>\n",
       "      <td>Shit VCs Say</td>\n",
       "      <td>3 points by Argentum01 10 hours ago  | discuss</td>\n",
       "    </tr>\n",
       "    <tr>\n",
       "      <th>4</th>\n",
       "      <td>Python, Machine Learning, and Language Wars</td>\n",
       "      <td>4 points by pmigdal 17 hours ago  | discuss</td>\n",
       "    </tr>\n",
       "  </tbody>\n",
       "</table>\n",
       "</div>"
      ],
      "text/plain": [
       "                                               title  \\\n",
       "0  An Exploration of R, Yelp, and the Search for ...   \n",
       "1               Deep Advances in Generative Modeling   \n",
       "2              Spark Pipelines: Elegant Yet Powerful   \n",
       "3                                       Shit VCs Say   \n",
       "4        Python, Machine Learning, and Language Wars   \n",
       "\n",
       "                                             date  \n",
       "0     5 points by Rogerh91 6 hours ago  | discuss  \n",
       "1    7 points by gwulfs 15 hours ago  | 1 comment  \n",
       "2     3 points by aouyang1 9 hours ago  | discuss  \n",
       "3  3 points by Argentum01 10 hours ago  | discuss  \n",
       "4     4 points by pmigdal 17 hours ago  | discuss  "
      ]
     },
     "execution_count": 34,
     "metadata": {},
     "output_type": "execute_result"
    }
   ],
   "source": [
    "df.head()"
   ]
  },
  {
   "cell_type": "markdown",
   "metadata": {},
   "source": [
    "To get the date of the title - we will need the following algorithm\n",
    "- If the string contains **hours** we can consider it **1 day**\n",
    "- And if the string has **day**, we pick the number preceding the **day**\n",
    "\n",
    "To apply this algorithm, we need to be able to pick these words and digits from a string. For that we will use Regular Expression."
   ]
  },
  {
   "cell_type": "markdown",
   "metadata": {},
   "source": [
    "## Introduction to Regular Expression (Regex)\n",
    "\n",
    "Regular expression is a way of selecting text using symbols in a string.\n",
    "\n",
    "Refer to the following links for an interactive playground\n",
    "- [http://regexr.com](http://regexr.com/)\n",
    "- [http://regex101.com/](http://regex101.com/)"
   ]
  },
  {
   "cell_type": "code",
   "execution_count": 35,
   "metadata": {
    "collapsed": true
   },
   "outputs": [],
   "source": [
    "import re"
   ]
  },
  {
   "cell_type": "code",
   "execution_count": 36,
   "metadata": {
    "collapsed": true
   },
   "outputs": [],
   "source": [
    "test_string = \"Hello world, welcome to 2016.\""
   ]
  },
  {
   "cell_type": "code",
   "execution_count": 37,
   "metadata": {
    "collapsed": false
   },
   "outputs": [],
   "source": [
    "# We can pass the whole string and re.search will give the first occurence of the value\n",
    "# re.search - This function searches for first occurrence of RE pattern within string.\n",
    "a = re.search('Hello world, welcome to 2016',test_string)"
   ]
  },
  {
   "cell_type": "code",
   "execution_count": 38,
   "metadata": {
    "collapsed": false
   },
   "outputs": [
    {
     "data": {
      "text/plain": [
       "<_sre.SRE_Match object; span=(0, 28), match='Hello world, welcome to 2016'>"
      ]
     },
     "execution_count": 38,
     "metadata": {},
     "output_type": "execute_result"
    }
   ],
   "source": [
    "a"
   ]
  },
  {
   "cell_type": "code",
   "execution_count": 39,
   "metadata": {
    "collapsed": false
   },
   "outputs": [
    {
     "data": {
      "text/plain": [
       "'Hello world, welcome to 2016'"
      ]
     },
     "execution_count": 39,
     "metadata": {},
     "output_type": "execute_result"
    }
   ],
   "source": [
    "a.group()"
   ]
  },
  {
   "cell_type": "code",
   "execution_count": 40,
   "metadata": {
    "collapsed": false
   },
   "outputs": [
    {
     "data": {
      "text/plain": [
       "'H'"
      ]
     },
     "execution_count": 40,
     "metadata": {},
     "output_type": "execute_result"
    }
   ],
   "source": [
    "# Match the first letters in the string\n",
    "a = re.search('.',test_string)\n",
    "a.group()"
   ]
  },
  {
   "cell_type": "code",
   "execution_count": 41,
   "metadata": {
    "collapsed": false
   },
   "outputs": [
    {
     "data": {
      "text/plain": [
       "'Hello world, welcome to 2016.'"
      ]
     },
     "execution_count": 41,
     "metadata": {},
     "output_type": "execute_result"
    }
   ],
   "source": [
    "# Match all the letters in the string\n",
    "a = re.search('.*',test_string)\n",
    "a.group()"
   ]
  },
  {
   "cell_type": "code",
   "execution_count": 42,
   "metadata": {
    "collapsed": false
   },
   "outputs": [
    {
     "name": "stdout",
     "output_type": "stream",
     "text": [
      "<_sre.SRE_Match object; span=(0, 5), match='Hello'>\n"
     ]
    }
   ],
   "source": [
    "a = re.search('Hello',test_string)\n",
    "print(a)"
   ]
  },
  {
   "cell_type": "markdown",
   "metadata": {},
   "source": [
    "** Some basic symbols**\n",
    "\n",
    "**`?`**   \n",
    "\n",
    "The question mark indicates zero or one occurrences of the preceding element. For example, colou?r matches both \"color\" and \"colour\".\n",
    "\n",
    "**`\\*`**\n",
    "\n",
    "The asterisk indicates zero or more occurrences of the preceding element. For example, ab*c matches \"ac\", \"abc\", \"abbc\", \"abbbc\", and so on.\n",
    "\n",
    "**`\\+`**\t\n",
    "The plus sign indicates one or more occurrences of the preceding element. For example, ab+c matches \"abc\", \"abbc\", \"abbbc\", and so on, but not \"ac\".\n"
   ]
  },
  {
   "cell_type": "code",
   "execution_count": 43,
   "metadata": {
    "collapsed": false
   },
   "outputs": [
    {
     "name": "stdout",
     "output_type": "stream",
     "text": [
      "<_sre.SRE_Match object; span=(0, 2), match='He'>\n"
     ]
    }
   ],
   "source": [
    "a = re.search('\\w.',test_string)\n",
    "print(a)"
   ]
  },
  {
   "cell_type": "code",
   "execution_count": 44,
   "metadata": {
    "collapsed": false
   },
   "outputs": [
    {
     "name": "stdout",
     "output_type": "stream",
     "text": [
      "<_sre.SRE_Match object; span=(0, 5), match='Hello'>\n"
     ]
    }
   ],
   "source": [
    "a = re.search('\\w*',test_string)\n",
    "print(a)"
   ]
  },
  {
   "cell_type": "markdown",
   "metadata": {},
   "source": [
    "### Exercises"
   ]
  },
  {
   "cell_type": "code",
   "execution_count": 45,
   "metadata": {
    "collapsed": true
   },
   "outputs": [],
   "source": [
    "string = '''In 2016, we are learning Text Analytics in Data Science 101\n",
    "            by scraping http://datatau.com'''"
   ]
  },
  {
   "cell_type": "code",
   "execution_count": 46,
   "metadata": {
    "collapsed": false
   },
   "outputs": [],
   "source": [
    "string = \"In 2016, we are learning Text Analytics in Data Science 101 by scraping http://datatau.com\""
   ]
  },
  {
   "cell_type": "markdown",
   "metadata": {},
   "source": [
    "Write a regex to pick the numbers 2016 from string above."
   ]
  },
  {
   "cell_type": "code",
   "execution_count": null,
   "metadata": {
    "collapsed": true
   },
   "outputs": [],
   "source": []
  },
  {
   "cell_type": "markdown",
   "metadata": {},
   "source": [
    "Write a regex to pick the url link (http://xyz.com) from the string above "
   ]
  },
  {
   "cell_type": "code",
   "execution_count": null,
   "metadata": {
    "collapsed": true
   },
   "outputs": [],
   "source": []
  },
  {
   "cell_type": "markdown",
   "metadata": {},
   "source": [
    "## Lets get the date from our string"
   ]
  },
  {
   "cell_type": "code",
   "execution_count": 47,
   "metadata": {
    "collapsed": false
   },
   "outputs": [
    {
     "data": {
      "text/html": [
       "<div>\n",
       "<table border=\"1\" class=\"dataframe\">\n",
       "  <thead>\n",
       "    <tr style=\"text-align: right;\">\n",
       "      <th></th>\n",
       "      <th>title</th>\n",
       "      <th>date</th>\n",
       "    </tr>\n",
       "  </thead>\n",
       "  <tbody>\n",
       "    <tr>\n",
       "      <th>0</th>\n",
       "      <td>An Exploration of R, Yelp, and the Search for ...</td>\n",
       "      <td>5 points by Rogerh91 6 hours ago  | discuss</td>\n",
       "    </tr>\n",
       "    <tr>\n",
       "      <th>1</th>\n",
       "      <td>Deep Advances in Generative Modeling</td>\n",
       "      <td>7 points by gwulfs 15 hours ago  | 1 comment</td>\n",
       "    </tr>\n",
       "    <tr>\n",
       "      <th>2</th>\n",
       "      <td>Spark Pipelines: Elegant Yet Powerful</td>\n",
       "      <td>3 points by aouyang1 9 hours ago  | discuss</td>\n",
       "    </tr>\n",
       "    <tr>\n",
       "      <th>3</th>\n",
       "      <td>Shit VCs Say</td>\n",
       "      <td>3 points by Argentum01 10 hours ago  | discuss</td>\n",
       "    </tr>\n",
       "    <tr>\n",
       "      <th>4</th>\n",
       "      <td>Python, Machine Learning, and Language Wars</td>\n",
       "      <td>4 points by pmigdal 17 hours ago  | discuss</td>\n",
       "    </tr>\n",
       "  </tbody>\n",
       "</table>\n",
       "</div>"
      ],
      "text/plain": [
       "                                               title  \\\n",
       "0  An Exploration of R, Yelp, and the Search for ...   \n",
       "1               Deep Advances in Generative Modeling   \n",
       "2              Spark Pipelines: Elegant Yet Powerful   \n",
       "3                                       Shit VCs Say   \n",
       "4        Python, Machine Learning, and Language Wars   \n",
       "\n",
       "                                             date  \n",
       "0     5 points by Rogerh91 6 hours ago  | discuss  \n",
       "1    7 points by gwulfs 15 hours ago  | 1 comment  \n",
       "2     3 points by aouyang1 9 hours ago  | discuss  \n",
       "3  3 points by Argentum01 10 hours ago  | discuss  \n",
       "4     4 points by pmigdal 17 hours ago  | discuss  "
      ]
     },
     "execution_count": 47,
     "metadata": {},
     "output_type": "execute_result"
    }
   ],
   "source": [
    "df.head()"
   ]
  },
  {
   "cell_type": "code",
   "execution_count": 48,
   "metadata": {
    "collapsed": false
   },
   "outputs": [
    {
     "data": {
      "text/html": [
       "<div>\n",
       "<table border=\"1\" class=\"dataframe\">\n",
       "  <thead>\n",
       "    <tr style=\"text-align: right;\">\n",
       "      <th></th>\n",
       "      <th>title</th>\n",
       "      <th>date</th>\n",
       "    </tr>\n",
       "  </thead>\n",
       "  <tbody>\n",
       "    <tr>\n",
       "      <th>175</th>\n",
       "      <td>Getting Started with Statistics for Data Science</td>\n",
       "      <td>3 points by nickhould 35 days ago  | discuss</td>\n",
       "    </tr>\n",
       "    <tr>\n",
       "      <th>176</th>\n",
       "      <td>Rodeo 1.3 - Tab-completion for docstrings</td>\n",
       "      <td>3 points by glamp 35 days ago  | discuss</td>\n",
       "    </tr>\n",
       "    <tr>\n",
       "      <th>177</th>\n",
       "      <td>Teaching D3.js - links</td>\n",
       "      <td>3 points by pmigdal 35 days ago  | discuss</td>\n",
       "    </tr>\n",
       "    <tr>\n",
       "      <th>178</th>\n",
       "      <td>Parallel scikit-learn on YARN</td>\n",
       "      <td>5 points by stijntonk 39 days ago  | discuss</td>\n",
       "    </tr>\n",
       "    <tr>\n",
       "      <th>179</th>\n",
       "      <td>Meetup: Free Live Webinar on Prescriptive Anal...</td>\n",
       "      <td>2 points by ann928 32 days ago  | discuss</td>\n",
       "    </tr>\n",
       "  </tbody>\n",
       "</table>\n",
       "</div>"
      ],
      "text/plain": [
       "                                                 title  \\\n",
       "175   Getting Started with Statistics for Data Science   \n",
       "176          Rodeo 1.3 - Tab-completion for docstrings   \n",
       "177                             Teaching D3.js - links   \n",
       "178                      Parallel scikit-learn on YARN   \n",
       "179  Meetup: Free Live Webinar on Prescriptive Anal...   \n",
       "\n",
       "                                             date  \n",
       "175  3 points by nickhould 35 days ago  | discuss  \n",
       "176      3 points by glamp 35 days ago  | discuss  \n",
       "177    3 points by pmigdal 35 days ago  | discuss  \n",
       "178  5 points by stijntonk 39 days ago  | discuss  \n",
       "179     2 points by ann928 32 days ago  | discuss  "
      ]
     },
     "execution_count": 48,
     "metadata": {},
     "output_type": "execute_result"
    }
   ],
   "source": [
    "df.tail()"
   ]
  },
  {
   "cell_type": "code",
   "execution_count": 49,
   "metadata": {
    "collapsed": true
   },
   "outputs": [],
   "source": [
    "date_string = df['date'][0]"
   ]
  },
  {
   "cell_type": "code",
   "execution_count": 50,
   "metadata": {
    "collapsed": false
   },
   "outputs": [
    {
     "name": "stdout",
     "output_type": "stream",
     "text": [
      "5 points by Rogerh91 6 hours ago  | discuss\n"
     ]
    }
   ],
   "source": [
    "print(date_string)"
   ]
  },
  {
   "cell_type": "code",
   "execution_count": 51,
   "metadata": {
    "collapsed": false
   },
   "outputs": [
    {
     "data": {
      "text/plain": [
       "<_sre.SRE_Match object; span=(23, 28), match='hours'>"
      ]
     },
     "execution_count": 51,
     "metadata": {},
     "output_type": "execute_result"
    }
   ],
   "source": [
    "re.search('hours',date_string)"
   ]
  },
  {
   "cell_type": "code",
   "execution_count": 52,
   "metadata": {
    "collapsed": true
   },
   "outputs": [],
   "source": [
    "date_string = df['date'][50]"
   ]
  },
  {
   "cell_type": "code",
   "execution_count": 53,
   "metadata": {
    "collapsed": false
   },
   "outputs": [
    {
     "name": "stdout",
     "output_type": "stream",
     "text": [
      "4 points by lefish 7 days ago  | discuss\n"
     ]
    }
   ],
   "source": [
    "print(date_string)"
   ]
  },
  {
   "cell_type": "code",
   "execution_count": 54,
   "metadata": {
    "collapsed": true
   },
   "outputs": [],
   "source": [
    "# If hours is not there, we don't get any match\n",
    "re.search('hours',date_string)"
   ]
  },
  {
   "cell_type": "code",
   "execution_count": 55,
   "metadata": {
    "collapsed": false
   },
   "outputs": [
    {
     "data": {
      "text/plain": [
       "<_sre.SRE_Match object; span=(19, 24), match='7 day'>"
      ]
     },
     "execution_count": 55,
     "metadata": {},
     "output_type": "execute_result"
    }
   ],
   "source": [
    "# Let us match the digit preceding the day text\n",
    "day_search = re.search('\\d+ day',date_string)\n",
    "day_search"
   ]
  },
  {
   "cell_type": "code",
   "execution_count": 56,
   "metadata": {
    "collapsed": false
   },
   "outputs": [
    {
     "data": {
      "text/plain": [
       "'7 day'"
      ]
     },
     "execution_count": 56,
     "metadata": {},
     "output_type": "execute_result"
    }
   ],
   "source": [
    "days_string = day_search.group(0)\n",
    "days_string"
   ]
  },
  {
   "cell_type": "code",
   "execution_count": 57,
   "metadata": {
    "collapsed": false
   },
   "outputs": [
    {
     "data": {
      "text/plain": [
       "'7'"
      ]
     },
     "execution_count": 57,
     "metadata": {},
     "output_type": "execute_result"
    }
   ],
   "source": [
    "days = days_string.split(' ')[0] \n",
    "days"
   ]
  },
  {
   "cell_type": "markdown",
   "metadata": {},
   "source": []
  },
  {
   "cell_type": "code",
   "execution_count": 58,
   "metadata": {
    "collapsed": true
   },
   "outputs": [],
   "source": [
    "def return_reg_ex_days(row):\n",
    "    days = ''\n",
    "    if re.search('hours',row['date']) is not None:\n",
    "        # print('hours',row['date'])\n",
    "        days = 1\n",
    "    else:\n",
    "        day_search = re.search('\\d+ day',row['date'])\n",
    "        # print('day',day_search.group(0))\n",
    "        days = day_search.group(0).split(' ')[0]    \n",
    "    \n",
    "    #print(row,days)\n",
    "    return days\n",
    "        "
   ]
  },
  {
   "cell_type": "code",
   "execution_count": 59,
   "metadata": {
    "collapsed": false
   },
   "outputs": [],
   "source": [
    "# Now we apply this function to each of the row in the dataframe\n",
    "df['days'] = df.apply(return_reg_ex_days,axis=1)"
   ]
  },
  {
   "cell_type": "code",
   "execution_count": 60,
   "metadata": {
    "collapsed": false
   },
   "outputs": [
    {
     "data": {
      "text/html": [
       "<div>\n",
       "<table border=\"1\" class=\"dataframe\">\n",
       "  <thead>\n",
       "    <tr style=\"text-align: right;\">\n",
       "      <th></th>\n",
       "      <th>title</th>\n",
       "      <th>date</th>\n",
       "      <th>days</th>\n",
       "    </tr>\n",
       "  </thead>\n",
       "  <tbody>\n",
       "    <tr>\n",
       "      <th>0</th>\n",
       "      <td>An Exploration of R, Yelp, and the Search for ...</td>\n",
       "      <td>5 points by Rogerh91 6 hours ago  | discuss</td>\n",
       "      <td>1</td>\n",
       "    </tr>\n",
       "    <tr>\n",
       "      <th>1</th>\n",
       "      <td>Deep Advances in Generative Modeling</td>\n",
       "      <td>7 points by gwulfs 15 hours ago  | 1 comment</td>\n",
       "      <td>1</td>\n",
       "    </tr>\n",
       "    <tr>\n",
       "      <th>2</th>\n",
       "      <td>Spark Pipelines: Elegant Yet Powerful</td>\n",
       "      <td>3 points by aouyang1 9 hours ago  | discuss</td>\n",
       "      <td>1</td>\n",
       "    </tr>\n",
       "    <tr>\n",
       "      <th>3</th>\n",
       "      <td>Shit VCs Say</td>\n",
       "      <td>3 points by Argentum01 10 hours ago  | discuss</td>\n",
       "      <td>1</td>\n",
       "    </tr>\n",
       "    <tr>\n",
       "      <th>4</th>\n",
       "      <td>Python, Machine Learning, and Language Wars</td>\n",
       "      <td>4 points by pmigdal 17 hours ago  | discuss</td>\n",
       "      <td>1</td>\n",
       "    </tr>\n",
       "  </tbody>\n",
       "</table>\n",
       "</div>"
      ],
      "text/plain": [
       "                                               title  \\\n",
       "0  An Exploration of R, Yelp, and the Search for ...   \n",
       "1               Deep Advances in Generative Modeling   \n",
       "2              Spark Pipelines: Elegant Yet Powerful   \n",
       "3                                       Shit VCs Say   \n",
       "4        Python, Machine Learning, and Language Wars   \n",
       "\n",
       "                                             date days  \n",
       "0     5 points by Rogerh91 6 hours ago  | discuss    1  \n",
       "1    7 points by gwulfs 15 hours ago  | 1 comment    1  \n",
       "2     3 points by aouyang1 9 hours ago  | discuss    1  \n",
       "3  3 points by Argentum01 10 hours ago  | discuss    1  \n",
       "4     4 points by pmigdal 17 hours ago  | discuss    1  "
      ]
     },
     "execution_count": 60,
     "metadata": {},
     "output_type": "execute_result"
    }
   ],
   "source": [
    "df.head()"
   ]
  },
  {
   "cell_type": "code",
   "execution_count": 61,
   "metadata": {
    "collapsed": false
   },
   "outputs": [
    {
     "data": {
      "text/html": [
       "<div>\n",
       "<table border=\"1\" class=\"dataframe\">\n",
       "  <thead>\n",
       "    <tr style=\"text-align: right;\">\n",
       "      <th></th>\n",
       "      <th>title</th>\n",
       "      <th>date</th>\n",
       "      <th>days</th>\n",
       "    </tr>\n",
       "  </thead>\n",
       "  <tbody>\n",
       "    <tr>\n",
       "      <th>175</th>\n",
       "      <td>Getting Started with Statistics for Data Science</td>\n",
       "      <td>3 points by nickhould 35 days ago  | discuss</td>\n",
       "      <td>35</td>\n",
       "    </tr>\n",
       "    <tr>\n",
       "      <th>176</th>\n",
       "      <td>Rodeo 1.3 - Tab-completion for docstrings</td>\n",
       "      <td>3 points by glamp 35 days ago  | discuss</td>\n",
       "      <td>35</td>\n",
       "    </tr>\n",
       "    <tr>\n",
       "      <th>177</th>\n",
       "      <td>Teaching D3.js - links</td>\n",
       "      <td>3 points by pmigdal 35 days ago  | discuss</td>\n",
       "      <td>35</td>\n",
       "    </tr>\n",
       "    <tr>\n",
       "      <th>178</th>\n",
       "      <td>Parallel scikit-learn on YARN</td>\n",
       "      <td>5 points by stijntonk 39 days ago  | discuss</td>\n",
       "      <td>39</td>\n",
       "    </tr>\n",
       "    <tr>\n",
       "      <th>179</th>\n",
       "      <td>Meetup: Free Live Webinar on Prescriptive Anal...</td>\n",
       "      <td>2 points by ann928 32 days ago  | discuss</td>\n",
       "      <td>32</td>\n",
       "    </tr>\n",
       "  </tbody>\n",
       "</table>\n",
       "</div>"
      ],
      "text/plain": [
       "                                                 title  \\\n",
       "175   Getting Started with Statistics for Data Science   \n",
       "176          Rodeo 1.3 - Tab-completion for docstrings   \n",
       "177                             Teaching D3.js - links   \n",
       "178                      Parallel scikit-learn on YARN   \n",
       "179  Meetup: Free Live Webinar on Prescriptive Anal...   \n",
       "\n",
       "                                             date days  \n",
       "175  3 points by nickhould 35 days ago  | discuss   35  \n",
       "176      3 points by glamp 35 days ago  | discuss   35  \n",
       "177    3 points by pmigdal 35 days ago  | discuss   35  \n",
       "178  5 points by stijntonk 39 days ago  | discuss   39  \n",
       "179     2 points by ann928 32 days ago  | discuss   32  "
      ]
     },
     "execution_count": 61,
     "metadata": {},
     "output_type": "execute_result"
    }
   ],
   "source": [
    "df.tail()"
   ]
  },
  {
   "cell_type": "code",
   "execution_count": 62,
   "metadata": {
    "collapsed": true
   },
   "outputs": [],
   "source": [
    "# Let us save to a dataframe\n",
    "df.to_csv('data_tau_days.csv', index=False)"
   ]
  }
 ],
 "metadata": {
  "kernelspec": {
   "display_name": "Python 3",
   "language": "python",
   "name": "python3"
  },
  "language_info": {
   "codemirror_mode": {
    "name": "ipython",
    "version": 3
   },
   "file_extension": ".py",
   "mimetype": "text/x-python",
   "name": "python",
   "nbconvert_exporter": "python",
   "pygments_lexer": "ipython3",
   "version": "3.5.1"
  }
 },
 "nbformat": 4,
 "nbformat_minor": 0
}
